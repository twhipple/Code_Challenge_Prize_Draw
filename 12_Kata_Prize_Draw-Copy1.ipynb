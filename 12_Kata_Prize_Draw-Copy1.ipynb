{
 "cells": [
  {
   "cell_type": "markdown",
   "metadata": {},
   "source": [
    "# Prize Draw"
   ]
  },
  {
   "cell_type": "markdown",
   "metadata": {},
   "source": [
    "To participate in a prize draw each one gives his/her firstname.\n",
    "\n",
    "Each letter of a firstname has a value which is its rank in the English alphabet. A and a have rank 1, B and b rank 2 and so on.\n",
    "\n",
    "The length of the firstname is added to the sum of these ranks hence a number som.\n",
    "\n",
    "An array of random weights is linked to the firstnames and each som is multiplied by its corresponding weight to get what they call a winning number."
   ]
  },
  {
   "cell_type": "markdown",
   "metadata": {},
   "source": [
    "## Example\n",
    "\n",
    "names: \"COLIN,AMANDBA,AMANDAB,CAROL,PauL,JOSEPH\"\n",
    "weights: [1, 4, 4, 5, 2, 1]\n",
    "\n",
    "PauL -> som = length of firstname + 16 + 1 + 21 + 12 = 4 + 50 -> 54\n",
    "The *weight* associated with PauL is 2 so PauL's *winning number* is 54 * 2 = 108."
   ]
  },
  {
   "cell_type": "markdown",
   "metadata": {},
   "source": [
    "\n",
    "Now one can sort the firstnames in decreasing order of the winning numbers. When two people have the same winning number sort them alphabetically by their firstnames.\n",
    "\n",
    "## Task:\n",
    "parameters: st a string of firstnames, we an array of weights, n a rank\n",
    "\n",
    "return: the firstname of the participant whose rank is n (ranks are numbered from 1)"
   ]
  },
  {
   "cell_type": "markdown",
   "metadata": {},
   "source": [
    "## Note:\n",
    "\n",
    "If st is empty return \"No participants\".\n",
    "\n",
    "If n is greater than the number of participants then return \"Not enough participants\".\n",
    "\n",
    "See Examples Test Cases for more examples."
   ]
  },
  {
   "cell_type": "raw",
   "metadata": {},
   "source": [
    "## Cases:\n",
    "\n",
    "Test.assert_equals(rank(\"Addison,Jayden,Sofia,Michael,Andrew,Lily,Benjamin\", [4, 2, 1, 4, 3, 1, 2], 4), \"Benjamin\")\n",
    "Test.assert_equals(rank(\"Lagon,Lily\", [1, 5], 2), \"Lagon\")\n",
    "Test.assert_equals(rank(\"Addison,Jayden,Sofia,Michael,Andrew,Lily,Benjamin\", [4, 2, 1, 4, 3, 1, 2], 8), \"Not enough participants\")\n",
    "Test.assert_equals(rank(\"\", [4, 2, 1, 4, 3, 1, 2], 6), \"No participants\")"
   ]
  },
  {
   "cell_type": "code",
   "execution_count": 3,
   "metadata": {},
   "outputs": [],
   "source": [
    "st_1 = \"Addison,Jayden,Sofia,Michael,Andrew,Lily,Benjamin\"\n",
    "we_1 = [4, 2, 1, 4, 3, 1, 2]\n",
    "n_1=4"
   ]
  },
  {
   "cell_type": "code",
   "execution_count": 4,
   "metadata": {},
   "outputs": [],
   "source": [
    "st_2 = \"Lagon,Lily\"\n",
    "we_2 = [1, 5]\n",
    "n_2=2"
   ]
  },
  {
   "cell_type": "code",
   "execution_count": 5,
   "metadata": {},
   "outputs": [],
   "source": [
    "st_3 = \"Addison,Jayden,Sofia,Michael,Andrew,Lily,Benjamin\"\n",
    "we_3 = [4, 2, 1, 4, 3, 1, 2]\n",
    "n_3=8"
   ]
  },
  {
   "cell_type": "code",
   "execution_count": 6,
   "metadata": {},
   "outputs": [],
   "source": [
    "st_4 = \"\"\n",
    "we_4 = [4, 2, 1, 4, 3, 1, 2]\n",
    "n_4=6"
   ]
  },
  {
   "cell_type": "code",
   "execution_count": 211,
   "metadata": {},
   "outputs": [],
   "source": [
    "st_5 = \"bea,abe,cea\"\n",
    "we_5 = [3, 3, 1]\n",
    "n_5=1"
   ]
  },
  {
   "cell_type": "code",
   "execution_count": 252,
   "metadata": {},
   "outputs": [],
   "source": [
    "st_6 = \"bea,abe,cea\"\n",
    "we_6 = [3, 3, 1]\n",
    "n_6=2"
   ]
  },
  {
   "cell_type": "code",
   "execution_count": 253,
   "metadata": {},
   "outputs": [],
   "source": [
    "st_7 = \"bea,abe,cea\"\n",
    "we_7 = [3, 3, 4]\n",
    "n_7=1"
   ]
  },
  {
   "cell_type": "markdown",
   "metadata": {},
   "source": [
    "# My Code"
   ]
  },
  {
   "cell_type": "code",
   "execution_count": 2,
   "metadata": {},
   "outputs": [],
   "source": [
    "def rank(st, we, n):\n",
    "    pass"
   ]
  },
  {
   "cell_type": "code",
   "execution_count": null,
   "metadata": {},
   "outputs": [],
   "source": [
    "# break the each name into letters"
   ]
  },
  {
   "cell_type": "code",
   "execution_count": 393,
   "metadata": {},
   "outputs": [],
   "source": [
    "name = \"cea\""
   ]
  },
  {
   "cell_type": "code",
   "execution_count": 394,
   "metadata": {},
   "outputs": [
    {
     "data": {
      "text/plain": [
       "['c', 'e', 'a']"
      ]
     },
     "execution_count": 394,
     "metadata": {},
     "output_type": "execute_result"
    }
   ],
   "source": [
    "name_list = [char for char in name.lower()]\n",
    "name_list"
   ]
  },
  {
   "cell_type": "code",
   "execution_count": 395,
   "metadata": {},
   "outputs": [],
   "source": [
    "# length of name"
   ]
  },
  {
   "cell_type": "code",
   "execution_count": 396,
   "metadata": {},
   "outputs": [
    {
     "data": {
      "text/plain": [
       "3"
      ]
     },
     "execution_count": 396,
     "metadata": {},
     "output_type": "execute_result"
    }
   ],
   "source": [
    "len(name_list)"
   ]
  },
  {
   "cell_type": "code",
   "execution_count": 397,
   "metadata": {},
   "outputs": [],
   "source": [
    "# assign a value to each number"
   ]
  },
  {
   "cell_type": "code",
   "execution_count": 398,
   "metadata": {},
   "outputs": [
    {
     "data": {
      "text/plain": [
       "1"
      ]
     },
     "execution_count": 398,
     "metadata": {},
     "output_type": "execute_result"
    }
   ],
   "source": [
    "ord('a')-96"
   ]
  },
  {
   "cell_type": "code",
   "execution_count": 399,
   "metadata": {},
   "outputs": [
    {
     "data": {
      "text/plain": [
       "1"
      ]
     },
     "execution_count": 399,
     "metadata": {},
     "output_type": "execute_result"
    }
   ],
   "source": [
    "ord('A')-64"
   ]
  },
  {
   "cell_type": "code",
   "execution_count": 400,
   "metadata": {},
   "outputs": [],
   "source": [
    "# sum numbers for each word"
   ]
  },
  {
   "cell_type": "code",
   "execution_count": 401,
   "metadata": {},
   "outputs": [
    {
     "data": {
      "text/plain": [
       "9"
      ]
     },
     "execution_count": 401,
     "metadata": {},
     "output_type": "execute_result"
    }
   ],
   "source": [
    "name_numb = []\n",
    "for char in name_list:\n",
    "    name_numb.append(ord(char)-96)\n",
    "sum(name_numb)"
   ]
  },
  {
   "cell_type": "code",
   "execution_count": 402,
   "metadata": {},
   "outputs": [],
   "source": [
    "# find 'som' of name (letters + length of name)"
   ]
  },
  {
   "cell_type": "code",
   "execution_count": 403,
   "metadata": {},
   "outputs": [
    {
     "data": {
      "text/plain": [
       "12"
      ]
     },
     "execution_count": 403,
     "metadata": {},
     "output_type": "execute_result"
    }
   ],
   "source": [
    "som = sum(name_numb) + len(name_list)\n",
    "som"
   ]
  },
  {
   "cell_type": "code",
   "execution_count": 404,
   "metadata": {},
   "outputs": [],
   "source": [
    "# multiply 'som' by the weight"
   ]
  },
  {
   "cell_type": "code",
   "execution_count": 405,
   "metadata": {},
   "outputs": [
    {
     "data": {
      "text/plain": [
       "12"
      ]
     },
     "execution_count": 405,
     "metadata": {},
     "output_type": "execute_result"
    }
   ],
   "source": [
    "som * we_5[2]"
   ]
  },
  {
   "cell_type": "code",
   "execution_count": 60,
   "metadata": {},
   "outputs": [],
   "source": [
    "def rank(st, we, n):\n",
    "    for name in st:\n",
    "        name_list = [char for char in name.lower()]\n",
    "        return name_list"
   ]
  },
  {
   "cell_type": "code",
   "execution_count": 74,
   "metadata": {},
   "outputs": [],
   "source": [
    "def rank(st, we, n):\n",
    "    name_dict = {}\n",
    "    for i in st:\n",
    "        for j in we:\n",
    "            name_dict.update([(i, j)])\n",
    "    return name_dict\n",
    "    "
   ]
  },
  {
   "cell_type": "code",
   "execution_count": null,
   "metadata": {},
   "outputs": [],
   "source": [
    "# Should have checked the string from the beginning!!!"
   ]
  },
  {
   "cell_type": "code",
   "execution_count": 79,
   "metadata": {},
   "outputs": [],
   "source": [
    "def rank(st, we, n):\n",
    "    return st"
   ]
  },
  {
   "cell_type": "code",
   "execution_count": 80,
   "metadata": {},
   "outputs": [
    {
     "data": {
      "text/plain": [
       "'Addison,Jayden,Sofia,Michael,Andrew,Lily,Benjamin'"
      ]
     },
     "execution_count": 80,
     "metadata": {},
     "output_type": "execute_result"
    }
   ],
   "source": [
    "rank(st_1, we_1, n_1)"
   ]
  },
  {
   "cell_type": "code",
   "execution_count": 81,
   "metadata": {},
   "outputs": [],
   "source": [
    "def rank(st, we, n):\n",
    "    return st.split(',')"
   ]
  },
  {
   "cell_type": "code",
   "execution_count": 82,
   "metadata": {},
   "outputs": [
    {
     "data": {
      "text/plain": [
       "['Addison', 'Jayden', 'Sofia', 'Michael', 'Andrew', 'Lily', 'Benjamin']"
      ]
     },
     "execution_count": 82,
     "metadata": {},
     "output_type": "execute_result"
    }
   ],
   "source": [
    "rank(st_1, we_1, n_1)"
   ]
  },
  {
   "cell_type": "code",
   "execution_count": 83,
   "metadata": {},
   "outputs": [],
   "source": [
    "def rank(st, we, n):\n",
    "    return st.lower().split(',')"
   ]
  },
  {
   "cell_type": "code",
   "execution_count": 84,
   "metadata": {},
   "outputs": [
    {
     "data": {
      "text/plain": [
       "['addison', 'jayden', 'sofia', 'michael', 'andrew', 'lily', 'benjamin']"
      ]
     },
     "execution_count": 84,
     "metadata": {},
     "output_type": "execute_result"
    }
   ],
   "source": [
    "rank(st_1, we_1, n_1)"
   ]
  },
  {
   "cell_type": "code",
   "execution_count": 85,
   "metadata": {},
   "outputs": [],
   "source": [
    "def rank(st, we, n):\n",
    "    name_list = st.lower().split(',')\n",
    "    return name_list"
   ]
  },
  {
   "cell_type": "code",
   "execution_count": 86,
   "metadata": {},
   "outputs": [
    {
     "data": {
      "text/plain": [
       "['addison', 'jayden', 'sofia', 'michael', 'andrew', 'lily', 'benjamin']"
      ]
     },
     "execution_count": 86,
     "metadata": {},
     "output_type": "execute_result"
    }
   ],
   "source": [
    "rank(st_1, we_1, n_1)"
   ]
  },
  {
   "cell_type": "code",
   "execution_count": 118,
   "metadata": {},
   "outputs": [],
   "source": [
    "def rank(st, we, n):\n",
    "    name_list = st.lower().split(',')\n",
    "    for name in name_list:\n",
    "        name_numb = []\n",
    "        for char in name:\n",
    "            name_numb.append(ord(char)-96)\n",
    "        return name_numb    "
   ]
  },
  {
   "cell_type": "code",
   "execution_count": 119,
   "metadata": {},
   "outputs": [
    {
     "data": {
      "text/plain": [
       "[1, 4, 4, 9, 19, 15, 14]"
      ]
     },
     "execution_count": 119,
     "metadata": {},
     "output_type": "execute_result"
    }
   ],
   "source": [
    "rank(st_1, we_1, n_1)"
   ]
  },
  {
   "cell_type": "code",
   "execution_count": 120,
   "metadata": {},
   "outputs": [],
   "source": [
    "def rank(st, we, n):\n",
    "    name_list = st.lower().split(',')\n",
    "    for name in name_list:\n",
    "        name_numb = []\n",
    "        for char in name:\n",
    "            name_numb.append(ord(char)-96)\n",
    "        return sum(name_numb)   "
   ]
  },
  {
   "cell_type": "code",
   "execution_count": 121,
   "metadata": {},
   "outputs": [
    {
     "data": {
      "text/plain": [
       "66"
      ]
     },
     "execution_count": 121,
     "metadata": {},
     "output_type": "execute_result"
    }
   ],
   "source": [
    "rank(st_1, we_1, n_1)"
   ]
  },
  {
   "cell_type": "code",
   "execution_count": 142,
   "metadata": {},
   "outputs": [],
   "source": [
    "def rank(st, we, n):\n",
    "    name_str = st.lower().split(',')\n",
    "    name_list = []\n",
    "    for name in name_str:\n",
    "        name_numb = []\n",
    "        for char in name:\n",
    "            name_numb.append(ord(char)-96)\n",
    "        name_list.append(sum(name_numb))\n",
    "    return name_list"
   ]
  },
  {
   "cell_type": "code",
   "execution_count": 143,
   "metadata": {},
   "outputs": [
    {
     "data": {
      "text/plain": [
       "[66, 59, 50, 51, 65, 58, 68]"
      ]
     },
     "execution_count": 143,
     "metadata": {},
     "output_type": "execute_result"
    }
   ],
   "source": [
    "rank(st_1, we_1, n_1)"
   ]
  },
  {
   "cell_type": "code",
   "execution_count": 182,
   "metadata": {},
   "outputs": [],
   "source": [
    "def rank(st, we, n):\n",
    "    name_str = st.lower().split(',')\n",
    "    name_list = []\n",
    "    for name in name_str:\n",
    "        name_numb = []\n",
    "        for char in name:\n",
    "            name_numb.append(ord(char)-96)\n",
    "        name_list.append(sum(name_numb) + len(name_numb))\n",
    "    return name_list"
   ]
  },
  {
   "cell_type": "code",
   "execution_count": 183,
   "metadata": {},
   "outputs": [
    {
     "data": {
      "text/plain": [
       "[73, 65, 55, 58, 71, 62, 76]"
      ]
     },
     "execution_count": 183,
     "metadata": {},
     "output_type": "execute_result"
    }
   ],
   "source": [
    "rank(st_1, we_1, n_1)"
   ]
  },
  {
   "cell_type": "code",
   "execution_count": 223,
   "metadata": {},
   "outputs": [],
   "source": [
    "def rank(st, we, n):\n",
    "    name_str = st.lower().split(',')\n",
    "    name_list = []\n",
    "    for name in name_str:\n",
    "        name_numb = []\n",
    "        for char in name:\n",
    "            name_numb.append(ord(char)-96)\n",
    "        name_list.append(sum(name_numb) + len(name_numb))\n",
    "    weight_list = []\n",
    "    for i in we:\n",
    "        weight_list.append(we[i])\n",
    "    return weight_list, we"
   ]
  },
  {
   "cell_type": "code",
   "execution_count": 224,
   "metadata": {},
   "outputs": [
    {
     "data": {
      "text/plain": [
       "([3, 1, 2, 3, 4, 2, 1], [4, 2, 1, 4, 3, 1, 2])"
      ]
     },
     "execution_count": 224,
     "metadata": {},
     "output_type": "execute_result"
    }
   ],
   "source": [
    "rank(st_1, we_1, n_1)"
   ]
  },
  {
   "cell_type": "code",
   "execution_count": 276,
   "metadata": {},
   "outputs": [],
   "source": [
    "def rank(st, we, n):\n",
    "    name_str = st.lower().split(',')\n",
    "    name_list = []\n",
    "    for name in name_str:\n",
    "        name_numb = []\n",
    "        for char in name:\n",
    "            name_numb.append(ord(char)-96)\n",
    "        name_list.append(sum(name_numb) + len(name_numb))\n",
    "    weight_list = []\n",
    "    for i in we:\n",
    "        weight_list.append(name_list[i]*we[i])\n",
    "    return name_list, we, weight_list"
   ]
  },
  {
   "cell_type": "code",
   "execution_count": 277,
   "metadata": {},
   "outputs": [
    {
     "data": {
      "text/plain": [
       "([73, 65, 55, 58, 71, 62, 76],\n",
       " [4, 2, 1, 4, 3, 1, 2],\n",
       " [213, 55, 130, 213, 232, 130, 55])"
      ]
     },
     "execution_count": 277,
     "metadata": {},
     "output_type": "execute_result"
    }
   ],
   "source": [
    "rank(st_1, we_1, n_1)"
   ]
  },
  {
   "cell_type": "code",
   "execution_count": 272,
   "metadata": {},
   "outputs": [],
   "source": [
    "def rank(st, we, n):\n",
    "    name_str = st.lower().split(',')\n",
    "    name_list = []\n",
    "    for name in name_str:\n",
    "        name_numb = []\n",
    "        for char in name:\n",
    "            name_numb.append(ord(char)-96)\n",
    "        name_list.append(sum(name_numb) + len(name_numb))\n",
    "    weight_list = []\n",
    "    for i in we:\n",
    "        weight_list.append(i * name_list[i])\n",
    "    return name_list, we, weight_list"
   ]
  },
  {
   "cell_type": "code",
   "execution_count": 273,
   "metadata": {},
   "outputs": [
    {
     "data": {
      "text/plain": [
       "([73, 65, 55, 58, 71, 62, 76],\n",
       " [4, 2, 1, 4, 3, 1, 2],\n",
       " [284, 110, 65, 284, 174, 65, 110])"
      ]
     },
     "execution_count": 273,
     "metadata": {},
     "output_type": "execute_result"
    }
   ],
   "source": [
    "rank(st_1, we_1, n_1)"
   ]
  },
  {
   "cell_type": "code",
   "execution_count": 275,
   "metadata": {},
   "outputs": [
    {
     "data": {
      "text/plain": [
       "(292, 130, 55, 232, 213, 62, 152)"
      ]
     },
     "execution_count": 275,
     "metadata": {},
     "output_type": "execute_result"
    }
   ],
   "source": [
    "73*4, 65*2, 55*1, 58*4, 71*3, 62*1, 76*2"
   ]
  },
  {
   "cell_type": "code",
   "execution_count": 305,
   "metadata": {},
   "outputs": [],
   "source": [
    "def rank(st, we, n):\n",
    "    name_str = st.lower().split(',')\n",
    "    name_list = []\n",
    "    for name in name_str:\n",
    "        name_numb = []\n",
    "        for char in name:\n",
    "            name_numb.append(ord(char)-96)\n",
    "        name_list.append(sum(name_numb) + len(name_numb))\n",
    "    weight_list = []\n",
    "    for i in range(0, len(we)): \n",
    "        weight_list.append(we[i] * name_list[i])\n",
    "    return weight_list, name_str"
   ]
  },
  {
   "cell_type": "code",
   "execution_count": 306,
   "metadata": {},
   "outputs": [
    {
     "data": {
      "text/plain": [
       "([292, 130, 55, 232, 213, 62, 152],\n",
       " ['addison', 'jayden', 'sofia', 'michael', 'andrew', 'lily', 'benjamin'])"
      ]
     },
     "execution_count": 306,
     "metadata": {},
     "output_type": "execute_result"
    }
   ],
   "source": [
    "rank(st_1, we_1, n_1)"
   ]
  },
  {
   "cell_type": "code",
   "execution_count": 307,
   "metadata": {},
   "outputs": [],
   "source": [
    "def rank(st, we, n):\n",
    "    name_str = st.lower().split(',')\n",
    "    name_list = []\n",
    "    for name in name_str:\n",
    "        name_numb = []\n",
    "        for char in name:\n",
    "            name_numb.append(ord(char)-96)\n",
    "        name_list.append(sum(name_numb) + len(name_numb))\n",
    "    weight_list = []\n",
    "    for i in range(0, len(we)): \n",
    "        weight_list.append(we[i] * name_list[i])\n",
    "    name_dict = {name_str[i]: weight_list[i] for i in range(len(name_str))} \n",
    "    return name_dict"
   ]
  },
  {
   "cell_type": "code",
   "execution_count": 308,
   "metadata": {},
   "outputs": [
    {
     "data": {
      "text/plain": [
       "{'addison': 292,\n",
       " 'jayden': 130,\n",
       " 'sofia': 55,\n",
       " 'michael': 232,\n",
       " 'andrew': 213,\n",
       " 'lily': 62,\n",
       " 'benjamin': 152}"
      ]
     },
     "execution_count": 308,
     "metadata": {},
     "output_type": "execute_result"
    }
   ],
   "source": [
    "rank(st_1, we_1, n_1)"
   ]
  },
  {
   "cell_type": "code",
   "execution_count": 309,
   "metadata": {},
   "outputs": [],
   "source": [
    "def rank(st, we, n):\n",
    "    name_str = st.lower().split(',')\n",
    "    name_list = []\n",
    "    for name in name_str:\n",
    "        name_numb = []\n",
    "        for char in name:\n",
    "            name_numb.append(ord(char)-96)\n",
    "        name_list.append(sum(name_numb) + len(name_numb))\n",
    "    weight_list = []\n",
    "    for i in range(0, len(we)): \n",
    "        weight_list.append(we[i] * name_list[i])\n",
    "    name_dict = {name_str[i]: weight_list[i] for i in range(len(name_str))} \n",
    "    return sorted(name_dict.items(), key=lambda x: x[1], reverse=True)"
   ]
  },
  {
   "cell_type": "code",
   "execution_count": 310,
   "metadata": {},
   "outputs": [
    {
     "data": {
      "text/plain": [
       "[('addison', 292),\n",
       " ('michael', 232),\n",
       " ('andrew', 213),\n",
       " ('benjamin', 152),\n",
       " ('jayden', 130),\n",
       " ('lily', 62),\n",
       " ('sofia', 55)]"
      ]
     },
     "execution_count": 310,
     "metadata": {},
     "output_type": "execute_result"
    }
   ],
   "source": [
    "rank(st_1, we_1, n_1)"
   ]
  },
  {
   "cell_type": "code",
   "execution_count": 321,
   "metadata": {},
   "outputs": [],
   "source": [
    "def rank(st, we, n):\n",
    "    name_str = st.lower().split(',')\n",
    "    name_list = []\n",
    "    for name in name_str:\n",
    "        name_numb = []\n",
    "        for char in name:\n",
    "            name_numb.append(ord(char)-96)\n",
    "        name_list.append(sum(name_numb) + len(name_numb))\n",
    "    weight_list = []\n",
    "    for i in range(0, len(we)): \n",
    "        weight_list.append(we[i] * name_list[i])\n",
    "    name_dict = {name_str[i]: weight_list[i] for i in range(len(name_str))} \n",
    "    name_dict = sorted(name_dict.items(), key=lambda x: x[1], reverse=True)\n",
    "    return name_dict, name_dict[n-1]"
   ]
  },
  {
   "cell_type": "code",
   "execution_count": 322,
   "metadata": {},
   "outputs": [
    {
     "data": {
      "text/plain": [
       "([('addison', 292),\n",
       "  ('michael', 232),\n",
       "  ('andrew', 213),\n",
       "  ('benjamin', 152),\n",
       "  ('jayden', 130),\n",
       "  ('lily', 62),\n",
       "  ('sofia', 55)],\n",
       " ('benjamin', 152))"
      ]
     },
     "execution_count": 322,
     "metadata": {},
     "output_type": "execute_result"
    }
   ],
   "source": [
    "rank(st_1, we_1, n_1)"
   ]
  },
  {
   "cell_type": "code",
   "execution_count": 350,
   "metadata": {},
   "outputs": [],
   "source": [
    "def rank(st, we, n):\n",
    "    name_str = st.lower().split(',')\n",
    "    name_list = []\n",
    "    for name in name_str:\n",
    "        name_numb = []\n",
    "        for char in name:\n",
    "            name_numb.append(ord(char)-96)\n",
    "        name_list.append(sum(name_numb) + len(name_numb))\n",
    "    weight_list = []\n",
    "    for i in range(0, len(we)): \n",
    "        weight_list.append(we[i] * name_list[i])\n",
    "    name_dict = {name_str[i]: weight_list[i] for i in range(len(name_str))} \n",
    "    name_dict = sorted(name_dict.items(), key=lambda x: x[1], reverse=True)\n",
    "    return name_dict[n-1][0].title()"
   ]
  },
  {
   "cell_type": "code",
   "execution_count": 351,
   "metadata": {},
   "outputs": [
    {
     "data": {
      "text/plain": [
       "'Benjamin'"
      ]
     },
     "execution_count": 351,
     "metadata": {},
     "output_type": "execute_result"
    }
   ],
   "source": [
    "rank(st_1, we_1, n_1)"
   ]
  },
  {
   "cell_type": "code",
   "execution_count": 352,
   "metadata": {},
   "outputs": [
    {
     "data": {
      "text/plain": [
       "'Lagon'"
      ]
     },
     "execution_count": 352,
     "metadata": {},
     "output_type": "execute_result"
    }
   ],
   "source": [
    "rank(st_2, we_2, n_2)"
   ]
  },
  {
   "cell_type": "code",
   "execution_count": 16,
   "metadata": {},
   "outputs": [],
   "source": [
    "def rank(st, we, n):\n",
    "    name_str = st.lower().split(',')\n",
    "    if st == \"\":\n",
    "        return \"No participants\"\n",
    "    elif n > len(name_str):\n",
    "        return \"Not enough participants\"\n",
    "    else:\n",
    "        name_list = []\n",
    "        for name in name_str:\n",
    "            name_numb = []\n",
    "            for char in name:\n",
    "                name_numb.append(ord(char)-96)\n",
    "            name_list.append(sum(name_numb) + len(name_numb))\n",
    "        weight_list = []\n",
    "        for i in range(0, len(we)): \n",
    "            weight_list.append(we[i] * name_list[i])\n",
    "        name_dict = {name_str[i]: weight_list[i] for i in range(len(name_str))} \n",
    "        name_dict = sorted(name_dict.items(), key=lambda x: x[1], reverse=True)\n",
    "        return name_dict[n-1][0].title()"
   ]
  },
  {
   "cell_type": "code",
   "execution_count": 17,
   "metadata": {},
   "outputs": [
    {
     "data": {
      "text/plain": [
       "'Benjamin'"
      ]
     },
     "execution_count": 17,
     "metadata": {},
     "output_type": "execute_result"
    }
   ],
   "source": [
    "rank(st_1, we_1, n_1)"
   ]
  },
  {
   "cell_type": "code",
   "execution_count": 18,
   "metadata": {},
   "outputs": [
    {
     "data": {
      "text/plain": [
       "'Lagon'"
      ]
     },
     "execution_count": 18,
     "metadata": {},
     "output_type": "execute_result"
    }
   ],
   "source": [
    "rank(st_2, we_2, n_2)"
   ]
  },
  {
   "cell_type": "code",
   "execution_count": 19,
   "metadata": {},
   "outputs": [
    {
     "data": {
      "text/plain": [
       "'Not enough participants'"
      ]
     },
     "execution_count": 19,
     "metadata": {},
     "output_type": "execute_result"
    }
   ],
   "source": [
    "rank(st_3, we_3, n_3)"
   ]
  },
  {
   "cell_type": "code",
   "execution_count": 20,
   "metadata": {},
   "outputs": [
    {
     "data": {
      "text/plain": [
       "'No participants'"
      ]
     },
     "execution_count": 20,
     "metadata": {},
     "output_type": "execute_result"
    }
   ],
   "source": [
    "rank(st_4, we_4, n_4)"
   ]
  },
  {
   "cell_type": "code",
   "execution_count": 21,
   "metadata": {},
   "outputs": [],
   "source": [
    "# failed on alphabetical tie"
   ]
  },
  {
   "cell_type": "code",
   "execution_count": 22,
   "metadata": {},
   "outputs": [
    {
     "data": {
      "text/plain": [
       "'Bea'"
      ]
     },
     "execution_count": 22,
     "metadata": {},
     "output_type": "execute_result"
    }
   ],
   "source": [
    "rank(st_5, we_5, n_5) # should be 'Abe'"
   ]
  },
  {
   "cell_type": "code",
   "execution_count": 37,
   "metadata": {},
   "outputs": [],
   "source": [
    "def rank(st, we, n):\n",
    "    name_str = st.lower().split(',')\n",
    "    if st == \"\":\n",
    "        return \"No participants\"\n",
    "    elif n > len(name_str):\n",
    "        return \"Not enough participants\"\n",
    "    else:\n",
    "        name_list = []\n",
    "        for name in name_str:\n",
    "            name_numb = []\n",
    "            for char in name:\n",
    "                name_numb.append(ord(char)-96)\n",
    "            name_list.append(sum(name_numb) + len(name_numb))\n",
    "        weight_list = []\n",
    "        for i in range(0, len(we)): \n",
    "            weight_list.append(we[i] * name_list[i])\n",
    "        name_dict = {name_str[i]: weight_list[i] for i in range(len(name_str))}\n",
    "        name_dict_list = sorted(name_dict.items(), key=lambda x: x[1], reverse=True)\n",
    "        #if len(name_dict.values()) == len(set(name_dict.values())):\n",
    "        return name_dict, name_dict_list, #name_dict[n-1][0].title()"
   ]
  },
  {
   "cell_type": "code",
   "execution_count": 38,
   "metadata": {},
   "outputs": [
    {
     "data": {
      "text/plain": [
       "({'bea': 33, 'abe': 33, 'cea': 12}, [('bea', 33), ('abe', 33), ('cea', 12)])"
      ]
     },
     "execution_count": 38,
     "metadata": {},
     "output_type": "execute_result"
    }
   ],
   "source": [
    "rank(st_5, we_5, n_5)"
   ]
  },
  {
   "cell_type": "code",
   "execution_count": 39,
   "metadata": {},
   "outputs": [
    {
     "data": {
      "text/plain": [
       "({'addison': 292,\n",
       "  'jayden': 130,\n",
       "  'sofia': 55,\n",
       "  'michael': 232,\n",
       "  'andrew': 213,\n",
       "  'lily': 62,\n",
       "  'benjamin': 152},\n",
       " [('addison', 292),\n",
       "  ('michael', 232),\n",
       "  ('andrew', 213),\n",
       "  ('benjamin', 152),\n",
       "  ('jayden', 130),\n",
       "  ('lily', 62),\n",
       "  ('sofia', 55)])"
      ]
     },
     "execution_count": 39,
     "metadata": {},
     "output_type": "execute_result"
    }
   ],
   "source": [
    "# wrong\n",
    "rank(st_1, we_1, n_1)"
   ]
  },
  {
   "cell_type": "code",
   "execution_count": 42,
   "metadata": {},
   "outputs": [],
   "source": [
    "def rank(st, we, n):\n",
    "    name_str = st.lower().split(',')\n",
    "    if st == \"\":\n",
    "        return \"No participants\"\n",
    "    elif n > len(name_str):\n",
    "        return \"Not enough participants\"\n",
    "    else:\n",
    "        name_list = []\n",
    "        for name in name_str:\n",
    "            name_numb = []\n",
    "            for char in name:\n",
    "                name_numb.append(ord(char)-96)\n",
    "            name_list.append(sum(name_numb) + len(name_numb))\n",
    "        weight_list = []\n",
    "        for i in range(0, len(we)): \n",
    "            weight_list.append(we[i] * name_list[i])\n",
    "        name_dict = {name_str[i]: weight_list[i] for i in range(len(name_str))}\n",
    "        name_dict_list = sorted(name_dict.items(), key=lambda x: x[1], reverse=True)\n",
    "        #if len(name_dict.values()) == len(set(name_dict.values())):\n",
    "        return name_dict, name_dict_list, name_dict_list[n-1][0].title()"
   ]
  },
  {
   "cell_type": "code",
   "execution_count": 43,
   "metadata": {},
   "outputs": [
    {
     "data": {
      "text/plain": [
       "({'bea': 33, 'abe': 33, 'cea': 12},\n",
       " [('bea', 33), ('abe', 33), ('cea', 12)],\n",
       " 'Bea')"
      ]
     },
     "execution_count": 43,
     "metadata": {},
     "output_type": "execute_result"
    }
   ],
   "source": [
    "rank(st_5, we_5, n_5)"
   ]
  },
  {
   "cell_type": "code",
   "execution_count": 44,
   "metadata": {},
   "outputs": [
    {
     "data": {
      "text/plain": [
       "({'lagon': 54, 'lily': 310}, [('lily', 310), ('lagon', 54)], 'Lagon')"
      ]
     },
     "execution_count": 44,
     "metadata": {},
     "output_type": "execute_result"
    }
   ],
   "source": [
    "rank(st_2, we_2, n_2)"
   ]
  },
  {
   "cell_type": "code",
   "execution_count": null,
   "metadata": {},
   "outputs": [],
   "source": []
  },
  {
   "cell_type": "code",
   "execution_count": null,
   "metadata": {},
   "outputs": [],
   "source": []
  },
  {
   "cell_type": "code",
   "execution_count": 65,
   "metadata": {},
   "outputs": [],
   "source": [
    "def rank(st, we, n):\n",
    "    name_str = st.lower().split(',')\n",
    "    if st == \"\":\n",
    "        return \"No participants\"\n",
    "    elif n > len(name_str):\n",
    "        return \"Not enough participants\"\n",
    "    else:\n",
    "        name_list = []\n",
    "        for name in name_str:\n",
    "            name_numb = []\n",
    "            for char in name:\n",
    "                name_numb.append(ord(char)-96)\n",
    "            name_list.append(sum(name_numb) + len(name_numb))\n",
    "        weight_list = []\n",
    "        for i in range(0, len(we)): \n",
    "            weight_list.append(we[i] * name_list[i])\n",
    "        name_dict = {name_str[i]: weight_list[i] for i in range(len(name_str))}\n",
    "        name_dict_list = sorted(name_dict.items(), key=lambda x: x[1], reverse=True)\n",
    "        if len(name_dict.values()) == len(set(name_dict.values())):\n",
    "            name_dict_sorted = sorted(name_dict.items(), key = lambda kv:(kv[1], kv[0]), reverse=True)\n",
    "            return name_dict, name_dict_sorted, name_dict_sorted[n-1][0].title()\n",
    "        else:\n",
    "            return name_dict[n-1][0].title()"
   ]
  },
  {
   "cell_type": "code",
   "execution_count": 66,
   "metadata": {},
   "outputs": [
    {
     "data": {
      "text/plain": [
       "({'addison': 292,\n",
       "  'jayden': 130,\n",
       "  'sofia': 55,\n",
       "  'michael': 232,\n",
       "  'andrew': 213,\n",
       "  'lily': 62,\n",
       "  'benjamin': 152},\n",
       " [('addison', 292),\n",
       "  ('michael', 232),\n",
       "  ('andrew', 213),\n",
       "  ('benjamin', 152),\n",
       "  ('jayden', 130),\n",
       "  ('lily', 62),\n",
       "  ('sofia', 55)],\n",
       " 'Benjamin')"
      ]
     },
     "execution_count": 66,
     "metadata": {},
     "output_type": "execute_result"
    }
   ],
   "source": [
    "rank(st_1, we_1, n_1)"
   ]
  },
  {
   "cell_type": "code",
   "execution_count": 67,
   "metadata": {},
   "outputs": [
    {
     "ename": "KeyError",
     "evalue": "0",
     "output_type": "error",
     "traceback": [
      "\u001b[0;31m---------------------------------------------------------------------------\u001b[0m",
      "\u001b[0;31mKeyError\u001b[0m                                  Traceback (most recent call last)",
      "\u001b[0;32m<ipython-input-67-99cadd346c9b>\u001b[0m in \u001b[0;36m<module>\u001b[0;34m\u001b[0m\n\u001b[0;32m----> 1\u001b[0;31m \u001b[0mrank\u001b[0m\u001b[0;34m(\u001b[0m\u001b[0mst_5\u001b[0m\u001b[0;34m,\u001b[0m \u001b[0mwe_5\u001b[0m\u001b[0;34m,\u001b[0m \u001b[0mn_5\u001b[0m\u001b[0;34m)\u001b[0m\u001b[0;34m\u001b[0m\u001b[0;34m\u001b[0m\u001b[0m\n\u001b[0m",
      "\u001b[0;32m<ipython-input-65-8d8cb8c56048>\u001b[0m in \u001b[0;36mrank\u001b[0;34m(st, we, n)\u001b[0m\n\u001b[1;32m     21\u001b[0m             \u001b[0;32mreturn\u001b[0m \u001b[0mname_dict\u001b[0m\u001b[0;34m,\u001b[0m \u001b[0mname_dict_sorted\u001b[0m\u001b[0;34m,\u001b[0m \u001b[0mname_dict_sorted\u001b[0m\u001b[0;34m[\u001b[0m\u001b[0mn\u001b[0m\u001b[0;34m-\u001b[0m\u001b[0;36m1\u001b[0m\u001b[0;34m]\u001b[0m\u001b[0;34m[\u001b[0m\u001b[0;36m0\u001b[0m\u001b[0;34m]\u001b[0m\u001b[0;34m.\u001b[0m\u001b[0mtitle\u001b[0m\u001b[0;34m(\u001b[0m\u001b[0;34m)\u001b[0m\u001b[0;34m\u001b[0m\u001b[0;34m\u001b[0m\u001b[0m\n\u001b[1;32m     22\u001b[0m         \u001b[0;32melse\u001b[0m\u001b[0;34m:\u001b[0m\u001b[0;34m\u001b[0m\u001b[0;34m\u001b[0m\u001b[0m\n\u001b[0;32m---> 23\u001b[0;31m             \u001b[0;32mreturn\u001b[0m \u001b[0mname_dict\u001b[0m\u001b[0;34m[\u001b[0m\u001b[0mn\u001b[0m\u001b[0;34m-\u001b[0m\u001b[0;36m1\u001b[0m\u001b[0;34m]\u001b[0m\u001b[0;34m[\u001b[0m\u001b[0;36m0\u001b[0m\u001b[0;34m]\u001b[0m\u001b[0;34m.\u001b[0m\u001b[0mtitle\u001b[0m\u001b[0;34m(\u001b[0m\u001b[0;34m)\u001b[0m\u001b[0;34m\u001b[0m\u001b[0;34m\u001b[0m\u001b[0m\n\u001b[0m",
      "\u001b[0;31mKeyError\u001b[0m: 0"
     ]
    }
   ],
   "source": [
    "rank(st_5, we_5, n_5)"
   ]
  },
  {
   "cell_type": "code",
   "execution_count": 68,
   "metadata": {},
   "outputs": [
    {
     "data": {
      "text/plain": [
       "({'lagon': 54, 'lily': 310}, [('lily', 310), ('lagon', 54)], 'Lagon')"
      ]
     },
     "execution_count": 68,
     "metadata": {},
     "output_type": "execute_result"
    }
   ],
   "source": [
    "rank(st_2, we_2, n_2)"
   ]
  },
  {
   "cell_type": "code",
   "execution_count": null,
   "metadata": {},
   "outputs": [],
   "source": [
    "# trying to find the duplicate values\n",
    "rev_dict = {} \n",
    "  \n",
    "for key, value in ini_dict.items(): \n",
    "    rev_dict.setdefault(value, set()).add(key) \n",
    "      \n",
    "result = [key for key, values in rev_dict.items() \n",
    "                              if len(values) > 1] "
   ]
  },
  {
   "cell_type": "code",
   "execution_count": 248,
   "metadata": {},
   "outputs": [],
   "source": [
    "def rank(st, we, n):\n",
    "    name_str = st.lower().split(',')\n",
    "    if st == \"\":\n",
    "        return \"No participants\"\n",
    "    elif n > len(name_str):\n",
    "        return \"Not enough participants\"\n",
    "    else:\n",
    "        name_list = []\n",
    "        for name in name_str:\n",
    "            name_numb = []\n",
    "            for char in name:\n",
    "                name_numb.append(ord(char)-96)\n",
    "            name_list.append(sum(name_numb) + len(name_numb))\n",
    "        weight_list = []\n",
    "        for i in range(0, len(we)): \n",
    "            weight_list.append(we[i] * name_list[i])\n",
    "        name_dict = {name_str[i]: weight_list[i] for i in range(len(name_str))}\n",
    "        \n",
    "        rev_dict = {} \n",
    "        for key, value in name_dict.items(): \n",
    "            rev_dict.setdefault(value, set()).add(key) \n",
    "        result = [key for key, values in rev_dict.items() if len(values) > 1] \n",
    "        \n",
    "        if result == []:\n",
    "            name_dict_list = sorted(name_dict.items(), key=lambda x: x[1], reverse=True)\n",
    "            return name_dict_list[n-1][0].title()\n",
    "        else:\n",
    "            name_dict_sorted = sorted(name_dict.items(), key = lambda kv:(kv[0], kv[1]))\n",
    "            return name_dict_sorted, name_dict_sorted[n-1][0].title()"
   ]
  },
  {
   "cell_type": "code",
   "execution_count": 249,
   "metadata": {},
   "outputs": [
    {
     "data": {
      "text/plain": [
       "'Lagon'"
      ]
     },
     "execution_count": 249,
     "metadata": {},
     "output_type": "execute_result"
    }
   ],
   "source": [
    "rank(st_2, we_2, n_2)"
   ]
  },
  {
   "cell_type": "code",
   "execution_count": 250,
   "metadata": {},
   "outputs": [
    {
     "data": {
      "text/plain": [
       "'Benjamin'"
      ]
     },
     "execution_count": 250,
     "metadata": {},
     "output_type": "execute_result"
    }
   ],
   "source": [
    "rank(st_1, we_1, n_1)"
   ]
  },
  {
   "cell_type": "code",
   "execution_count": 251,
   "metadata": {},
   "outputs": [
    {
     "data": {
      "text/plain": [
       "([('abe', 33), ('bea', 33), ('cea', 12)], 'Abe')"
      ]
     },
     "execution_count": 251,
     "metadata": {},
     "output_type": "execute_result"
    }
   ],
   "source": [
    "rank(st_5, we_5, n_5)"
   ]
  },
  {
   "cell_type": "code",
   "execution_count": 254,
   "metadata": {},
   "outputs": [
    {
     "data": {
      "text/plain": [
       "([('abe', 33), ('bea', 33), ('cea', 12)], 'Bea')"
      ]
     },
     "execution_count": 254,
     "metadata": {},
     "output_type": "execute_result"
    }
   ],
   "source": [
    "rank(st_6, we_6, n_6)"
   ]
  },
  {
   "cell_type": "code",
   "execution_count": 255,
   "metadata": {},
   "outputs": [
    {
     "data": {
      "text/plain": [
       "([('abe', 33), ('bea', 33), ('cea', 48)], 'Abe')"
      ]
     },
     "execution_count": 255,
     "metadata": {},
     "output_type": "execute_result"
    }
   ],
   "source": [
    "rank(st_7, we_7, n_7)"
   ]
  },
  {
   "cell_type": "code",
   "execution_count": null,
   "metadata": {},
   "outputs": [],
   "source": []
  },
  {
   "cell_type": "code",
   "execution_count": null,
   "metadata": {},
   "outputs": [],
   "source": []
  },
  {
   "cell_type": "code",
   "execution_count": 156,
   "metadata": {},
   "outputs": [
    {
     "data": {
      "text/plain": [
       "'Not enough participants'"
      ]
     },
     "execution_count": 156,
     "metadata": {},
     "output_type": "execute_result"
    }
   ],
   "source": [
    "rank(st_3, we_3, n_3)"
   ]
  },
  {
   "cell_type": "code",
   "execution_count": 157,
   "metadata": {},
   "outputs": [
    {
     "data": {
      "text/plain": [
       "'No participants'"
      ]
     },
     "execution_count": 157,
     "metadata": {},
     "output_type": "execute_result"
    }
   ],
   "source": [
    "rank(st_4, we_4, n_4)"
   ]
  },
  {
   "cell_type": "code",
   "execution_count": null,
   "metadata": {},
   "outputs": [],
   "source": []
  },
  {
   "cell_type": "code",
   "execution_count": null,
   "metadata": {},
   "outputs": [],
   "source": [
    "from string import ascii_lowercase"
   ]
  },
  {
   "cell_type": "code",
   "execution_count": null,
   "metadata": {},
   "outputs": [],
   "source": [
    "ascii_lowercase()"
   ]
  },
  {
   "cell_type": "code",
   "execution_count": null,
   "metadata": {},
   "outputs": [],
   "source": []
  },
  {
   "cell_type": "code",
   "execution_count": null,
   "metadata": {},
   "outputs": [],
   "source": []
  },
  {
   "cell_type": "code",
   "execution_count": null,
   "metadata": {},
   "outputs": [],
   "source": []
  },
  {
   "cell_type": "code",
   "execution_count": null,
   "metadata": {},
   "outputs": [],
   "source": []
  },
  {
   "cell_type": "code",
   "execution_count": null,
   "metadata": {},
   "outputs": [],
   "source": []
  },
  {
   "cell_type": "code",
   "execution_count": null,
   "metadata": {},
   "outputs": [],
   "source": [
    "test.assert_equals(arrow_area(4,2), 2)\n",
    "test.assert_equals(arrow_area(7,6), 10.5)\n",
    "test.assert_equals(arrow_area(25,25), 156.25)"
   ]
  },
  {
   "cell_type": "markdown",
   "metadata": {},
   "source": [
    "# Solutions"
   ]
  },
  {
   "cell_type": "code",
   "execution_count": null,
   "metadata": {},
   "outputs": [],
   "source": []
  }
 ],
 "metadata": {
  "kernelspec": {
   "display_name": "learn-env",
   "language": "python",
   "name": "learn-env"
  },
  "language_info": {
   "codemirror_mode": {
    "name": "ipython",
    "version": 3
   },
   "file_extension": ".py",
   "mimetype": "text/x-python",
   "name": "python",
   "nbconvert_exporter": "python",
   "pygments_lexer": "ipython3",
   "version": "3.6.9"
  },
  "toc": {
   "base_numbering": 1,
   "nav_menu": {},
   "number_sections": true,
   "sideBar": true,
   "skip_h1_title": false,
   "title_cell": "Table of Contents",
   "title_sidebar": "Contents",
   "toc_cell": false,
   "toc_position": {},
   "toc_section_display": true,
   "toc_window_display": false
  }
 },
 "nbformat": 4,
 "nbformat_minor": 4
}
